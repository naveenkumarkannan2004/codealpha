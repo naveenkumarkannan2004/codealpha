{
  "nbformat": 4,
  "nbformat_minor": 0,
  "metadata": {
    "colab": {
      "provenance": []
    },
    "kernelspec": {
      "name": "python3",
      "display_name": "Python 3"
    },
    "language_info": {
      "name": "python"
    }
  },
  "cells": [
    {
      "cell_type": "markdown",
      "source": [
        "**CYBER SECURITY BASICS**\n",
        "\n",
        "         "
      ],
      "metadata": {
        "id": "9K5jA-tJzUik"
      }
    },
    {
      "cell_type": "markdown",
      "source": [
        "basics in cyber security and cyber attacks"
      ],
      "metadata": {
        "id": "kavV-njo4FqN"
      }
    },
    {
      "cell_type": "markdown",
      "source": [
        "**Personally identifiable information (pii)**"
      ],
      "metadata": {
        "id": "4iRG2QS02X5E"
      }
    },
    {
      "cell_type": "markdown",
      "source": [
        "It refers to any data that could potentially identify a specific individual. Protecting PII is a crucial aspect of cybersecurity due to the sensitive nature of this information. Unauthorized access to PII can lead to privacy breaches, identity theft, financial loss, and other serious consequences. Eg:-  name, address, ph no.\n"
      ],
      "metadata": {
        "id": "Aoeec6Zo3WqT"
      }
    },
    {
      "cell_type": "markdown",
      "source": [
        "**Sensitive personally identifiable information (spii)**"
      ],
      "metadata": {
        "id": "cPaZbh1v3lTV"
      }
    },
    {
      "cell_type": "markdown",
      "source": [
        "It refers to a subset of Personally Identifiable Information (PII) that is more sensitive and thus requires additional protection due to the potential harm that could result from its exposure. SPII typically includes information that, if disclosed, could lead to identity theft, financial loss, or significant personal harm. Eg:-  Aadhaar no., ATM card no"
      ],
      "metadata": {
        "id": "Wdkcqf9q3ySF"
      }
    },
    {
      "cell_type": "markdown",
      "source": [
        "**Phishing.**"
      ],
      "metadata": {
        "id": "U_u2H_LM3_wr"
      }
    },
    {
      "cell_type": "markdown",
      "source": [
        "A method of trying to gather personal information using deceptive e-mails and websites. Eg:-Email phishing (Trying to steal the data by sending the fake emails)"
      ],
      "metadata": {
        "id": "iQ-9AShE4XD-"
      }
    },
    {
      "cell_type": "markdown",
      "source": [
        "**Deniel of services (dos)**"
      ],
      "metadata": {
        "id": "WkCaAf-Z4eGl"
      }
    },
    {
      "cell_type": "markdown",
      "source": [
        "It is a type of cyber attack where the attacker seeks to make a machine, network resource, or service by overwhelming the target with a flood of illegitimate requests, thereby disrupting normal operations. This can result in significant downtime and loss of business operations."
      ],
      "metadata": {
        "id": "1T_2OQFh4rUP"
      }
    },
    {
      "cell_type": "markdown",
      "source": [
        "**Malware**"
      ],
      "metadata": {
        "id": "j-8OWqau4ohU"
      }
    },
    {
      "cell_type": "markdown",
      "source": [
        "Malware, short for malicious software, refers to any software intentionally designed to cause damage to a computer, server, client, or computer network. It is used by the cyber criminals to steal data."
      ],
      "metadata": {
        "id": "_P2Mnewr5C6S"
      }
    },
    {
      "cell_type": "markdown",
      "source": [
        "**Firewall**"
      ],
      "metadata": {
        "id": "kRlCeNpx5Jh9"
      }
    },
    {
      "cell_type": "markdown",
      "source": [
        "A firewall is a network security device or software designed to monitor and control incoming and outgoing network traffic based on predetermined security rules. It will protect the network or device from attack."
      ],
      "metadata": {
        "id": "7yQT8XgR5Uzd"
      }
    },
    {
      "cell_type": "markdown",
      "source": [
        "**Intrussion detection system (ids)**"
      ],
      "metadata": {
        "id": "R37iPXX45d5h"
      }
    },
    {
      "cell_type": "markdown",
      "source": [
        "It is to designed to detect unauthorized access, misuse, or attacks on a network or system. IDS can monitor network traffic or system activities to identify suspicious patterns that may indicate a security incident."
      ],
      "metadata": {
        "id": "T_jjaMuX5phh"
      }
    },
    {
      "cell_type": "markdown",
      "source": [
        "**Sniffing**"
      ],
      "metadata": {
        "id": "fR344dua5yqG"
      }
    },
    {
      "cell_type": "markdown",
      "source": [
        "Sniffing, refers to the process of intercepting and capturing data packets as they travel across a network. This is also a technique to steal the sensitive information."
      ],
      "metadata": {
        "id": "ldQQBtp26Lko"
      }
    },
    {
      "cell_type": "markdown",
      "source": [
        "**Hashing**"
      ],
      "metadata": {
        "id": "-JjwraVa6WAa"
      }
    },
    {
      "cell_type": "markdown",
      "source": [
        "Hashing is the process of generating the fixed-size string of characters from an input variable using the hash function.\n",
        " EG:-    key value=> “good”\n",
        "         hash value=>”0094ss6”"
      ],
      "metadata": {
        "id": "saLXMrBQ6hq4"
      }
    },
    {
      "cell_type": "markdown",
      "source": [
        "**Attacks in digital age**"
      ],
      "metadata": {
        "id": "cePbBs0W6rSU"
      }
    },
    {
      "cell_type": "markdown",
      "source": [
        "Love letter attack: It referred to as the Love Bug or Loveletter, was a computer worm that infected over ten million Windows personal computers on and after 5 May 2000. It started spreading as an email message with the subject line \"ILOVEYOU\" and the attachment \"LOVE-LETTER-FOR-YOU.TXT.vbs\". VB is the “visual basic script” people thought that was just text file. They used to open it and fall in attack."
      ],
      "metadata": {
        "id": "8VouCSna7W9U"
      }
    },
    {
      "cell_type": "markdown",
      "source": [
        "**Equifax attack**"
      ],
      "metadata": {
        "id": "e0FZ9yBt7bWA"
      }
    },
    {
      "cell_type": "markdown",
      "source": [
        "The Equifax data breach occurred between May and July 2017 at the America. Private records of 147.9 million Americans along with 15.2 million British citizens and about 19,000 Canadian citizens were compromised in the breach, making it one of the largest cybercrimes related to identity theft. Equifax discovered the breach end of July, but didn't disclose it to the public until September 2017."
      ],
      "metadata": {
        "id": "7Xma0cmp7mi3"
      }
    },
    {
      "cell_type": "markdown",
      "source": [
        "**Birthday attack**"
      ],
      "metadata": {
        "id": "NcoVnQUE7upM"
      }
    },
    {
      "cell_type": "markdown",
      "source": [
        "Birthday attack is a type of cryptographic attack that belongs to a class of brute force attacks. It exploits the mathematics behind the birthday problem in probability theory. The success of this attack largely depends upon the higher likelihood of collisions found between random attack attempts and a fixed degree of permutations, as described in the “Birthday paradox problem”."
      ],
      "metadata": {
        "id": "qqnJ-UHK8H67"
      }
    },
    {
      "cell_type": "markdown",
      "source": [],
      "metadata": {
        "id": "wK6L9NVW8Nle"
      }
    }
  ]
}